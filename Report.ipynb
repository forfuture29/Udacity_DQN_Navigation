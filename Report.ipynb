{
 "cells": [
  {
   "cell_type": "markdown",
   "metadata": {},
   "source": [
    "# Navigation\n",
    "\n",
    "\n",
    "\n",
    "### 1. Start the Environment\n",
    "\n",
    "Run the next code cell to install a few packages.  This line will take a few minutes to run!"
   ]
  },
  {
   "cell_type": "code",
   "execution_count": 1,
   "metadata": {},
   "outputs": [
    {
     "name": "stdout",
     "output_type": "stream",
     "text": [
      "\u001b[31mtensorflow 1.7.1 has requirement numpy>=1.13.3, but you'll have numpy 1.12.1 which is incompatible.\u001b[0m\r\n",
      "\u001b[31mipython 6.5.0 has requirement prompt-toolkit<2.0.0,>=1.0.15, but you'll have prompt-toolkit 3.0.20 which is incompatible.\u001b[0m\r\n"
     ]
    }
   ],
   "source": [
    "!pip -q install ./python"
   ]
  },
  {
   "cell_type": "markdown",
   "metadata": {},
   "source": [
    "The environment is already saved in the Workspace and can be accessed at the file path provided below.  Please run the next code cell without making any changes."
   ]
  },
  {
   "cell_type": "code",
   "execution_count": 2,
   "metadata": {},
   "outputs": [
    {
     "name": "stderr",
     "output_type": "stream",
     "text": [
      "INFO:unityagents:\n",
      "'Academy' started successfully!\n",
      "Unity Academy name: Academy\n",
      "        Number of Brains: 1\n",
      "        Number of External Brains : 1\n",
      "        Lesson number : 0\n",
      "        Reset Parameters :\n",
      "\t\t\n",
      "Unity brain name: BananaBrain\n",
      "        Number of Visual Observations (per agent): 0\n",
      "        Vector Observation space type: continuous\n",
      "        Vector Observation space size (per agent): 37\n",
      "        Number of stacked Vector Observation: 1\n",
      "        Vector Action space type: discrete\n",
      "        Vector Action space size (per agent): 4\n",
      "        Vector Action descriptions: , , , \n"
     ]
    }
   ],
   "source": [
    "from unityagents import UnityEnvironment\n",
    "import numpy as np\n",
    "\n",
    "# please do not modify the line below\n",
    "env = UnityEnvironment(file_name=\"/data/Banana_Linux_NoVis/Banana.x86_64\")"
   ]
  },
  {
   "cell_type": "markdown",
   "metadata": {},
   "source": [
    "Environments contain **_brains_** which are responsible for deciding the actions of their associated agents. Here we check for the first brain available, and set it as the default brain we will be controlling from Python."
   ]
  },
  {
   "cell_type": "code",
   "execution_count": 3,
   "metadata": {},
   "outputs": [],
   "source": [
    "# get the default brain\n",
    "brain_name = env.brain_names[0]\n",
    "brain = env.brains[brain_name]"
   ]
  },
  {
   "cell_type": "markdown",
   "metadata": {},
   "source": [
    "### 2. Import Library\n"
   ]
  },
  {
   "cell_type": "code",
   "execution_count": 4,
   "metadata": {},
   "outputs": [],
   "source": [
    "import random\n",
    "from collections import deque,namedtuple\n",
    "import pandas as pd\n",
    "\n",
    "import torch\n",
    "import torch.nn.functional as F\n",
    "import torch.optim as optim\n",
    "import torch.nn as nn\n",
    "import matplotlib.pyplot as plt\n"
   ]
  },
  {
   "cell_type": "markdown",
   "metadata": {},
   "source": [
    "### 3. Neural Network \n",
    "- The model consists of two hidden layers with 128 units and 32 units consecutively. nn.Linear() is the linear function that take m inputs and give n outputs. Ax=b is an example of linear equation for this.\n",
    "- The input consitsts of 37 features and gives the output of 4.\n",
    "- ReLu is an activation function that is used on the first and second hidden layer. Basically, the function apply  max(0, x) element wise. In my opinion, ReLu is one of the most used activation function.\n"
   ]
  },
  {
   "cell_type": "code",
   "execution_count": 5,
   "metadata": {},
   "outputs": [],
   "source": [
    "class QNetwork(nn.Module):\n",
    " def __init__(self,state_size,action_size,seed,fc1=128,fc2=32):\n",
    "  super(QNetwork,self).__init__()\n",
    "  self.seed=torch.manual_seed(seed)\n",
    "  self.fc1=nn.Linear(state_size,fc1)\n",
    "  self.fc2=nn.Linear(fc1,fc2)\n",
    "  self.fc3=nn.Linear(fc2,action_size)\n",
    "\n",
    " def forward(self,state):\n",
    "  x=F.relu(self.fc1(state))\n",
    "  x=F.relu(self.fc2(x))\n",
    "  return self.fc3(x)"
   ]
  },
  {
   "cell_type": "markdown",
   "metadata": {},
   "source": [
    "### 4. Agent  (Q Learning)\n",
    "\n",
    "- Here I have seperated the steps for update Q Learning and Target model. I have tried different numbers but the results are not     signifiantly different.\n",
    "\n",
    "\n",
    "\n",
    "The hyperparameters are listed as follow:\n",
    "\n",
    "- buffer size (The maximum number of experiences in the replay buffer) : 1e5\n",
    "- batchsize (Numbers of experiences that is sampled from replay buffer during learning) : 64\n",
    "- gamma (Discount Rate that is used to compue the Q target) : 0.99\n",
    "- lr (Learning rate for gradient descent) : 5e-4\n",
    "- q_Learning_step (Number of steps before updating the weights to minimize loss) : 4\n",
    "- update_targetevery (Number of steps before updating the weight of Q target model: 4\n",
    "- tau (Discount rate for updating target model to match with the parameter of local model): 1e-3                            \n",
    "\n",
    "*During experiment i have tried to change tau based on number of episodes but there is no significant improvement in terms of number of episodes used to solve the environment."
   ]
  },
  {
   "cell_type": "code",
   "execution_count": 6,
   "metadata": {},
   "outputs": [],
   "source": [
    "\n",
    "\n",
    "buffer_size=int(1e5)\n",
    "batch_size=64\n",
    "gamma=0.99\n",
    "lr=5e-4\n",
    "qlearn_step=4\n",
    "update_targetevery=4\n",
    "\n",
    "\n",
    "device=torch.device(\"cuda:0\" if torch.cuda.is_available() else \"cpu\")\n",
    "\n",
    "\n",
    "class Agent():\n",
    " def __init__(self,state_size,action_size,seed):\n",
    "  self.state_size=state_size\n",
    "  self.action_size=action_size\n",
    "  self.seed=random.seed(seed)\n",
    "\n",
    "  #Q-Network\n",
    "  self.qnetwork_local=QNetwork(state_size,action_size,seed).to(device)\n",
    "  self.qnetwork_target=QNetwork(state_size,action_size,seed).to(device)\n",
    "  self.optimizer=optim.Adam(self.qnetwork_local.parameters(),lr=lr)\n",
    "  \n",
    "  #Replay Memory\n",
    "  self.memory=ReplayBuffer(action_size,buffer_size,batch_size,seed)\n",
    "  self.t_step=0\n",
    "  self.qlearn=0\n",
    "\n",
    " def step(self,state,action,reward,next_state,done,i_episode):\n",
    "  self.memory.add(state,action,reward,next_state,done)\n",
    "  self.qlearn=(self.qlearn+1)%qlearn_step\n",
    "  self.t_step=(self.t_step+1)%update_targetevery\n",
    "  \n",
    "  if i_episode<200:\n",
    "   tau=1e-3\n",
    "  else:\n",
    "   tau=1e-3\n",
    "    \n",
    "  if len(self.memory)>batch_size:\n",
    "   if self.qlearn==0:\n",
    "     experiences=self.memory.sample()\n",
    "     self.learn(experiences,gamma)\n",
    "   if self.t_step==0:\n",
    "     self.target_updates(self.qnetwork_local,self.qnetwork_target,tau)\n",
    "        \n",
    " def act(self,state,eps=0):\n",
    "  state=torch.from_numpy(state).float().unsqueeze(0).to(device)\n",
    "  self.qnetwork_local.eval()\n",
    "  with torch.no_grad():\n",
    "   action_values=self.qnetwork_local(state)\n",
    "  self.qnetwork_local.train()\n",
    "  \n",
    "  if random.random()>eps:\n",
    "   return np.argmax(action_values.cpu().data.numpy())\n",
    "  else:\n",
    "   return random.choice(np.arange(self.action_size))\n",
    "\n",
    " def learn(self,experiences,gamma):\n",
    "  states,actions,rewards,next_states,dones=experiences\n",
    "  Q_targets_next = self.qnetwork_target(next_states).detach().max(1)[0].unsqueeze(1) \n",
    "  Q_targets = rewards + (gamma * Q_targets_next * (1 - dones))\n",
    "  Q_expected = self.qnetwork_local(states).gather(1, actions)\n",
    "  \n",
    "\n",
    "\n",
    "  #Compute Loss\n",
    "  loss=F.mse_loss(Q_expected,Q_targets)\n",
    "  self.optimizer.zero_grad()\n",
    "  loss.backward()\n",
    "  self.optimizer.step()\n",
    "  \n",
    " \n",
    " def target_updates(self,local_model,target_model,tau):\n",
    "  for target_param,local_param in zip(target_model.parameters(),local_model.parameters()):\n",
    "   target_param.data.copy_(tau*local_param.data+(1.0-tau)*target_param.data)"
   ]
  },
  {
   "cell_type": "markdown",
   "metadata": {},
   "source": [
    "### 5. Replay Buffer\n"
   ]
  },
  {
   "cell_type": "code",
   "execution_count": 8,
   "metadata": {},
   "outputs": [],
   "source": [
    "class ReplayBuffer:\n",
    " def __init__(self,action_size,buffer_size,batch_size,seed):\n",
    "  self.action_size=action_size\n",
    "  self.memory=deque(maxlen=buffer_size)\n",
    "  self.batch_size=batch_size\n",
    "  self.experience=namedtuple(\"Experience\",field_names=[\"state\",\"action\",\"reward\",\"next_state\",\"done\"])\n",
    "  self.seed=random.seed(seed)\n",
    " \n",
    " def add(self,state,action,reward,next_state,done):\n",
    "  e=self.experience(state,action,reward,next_state,done)\n",
    "  self.memory.append(e)\n",
    "\n",
    " def sample(self):\n",
    "  experiences=random.sample(self.memory,k=self.batch_size)\n",
    "  states=torch.from_numpy(np.vstack([e.state for e in experiences if e is not None])).float().to(device)\n",
    "  actions=torch.from_numpy(np.vstack([e.action for e in experiences if e is not None])).long().to(device)\n",
    "  rewards=torch.from_numpy(np.vstack([e.reward for e in experiences if e is not None])).float().to(device)\n",
    "  next_states=torch.from_numpy(np.vstack([e.next_state for e in experiences if e is not None])).float().to(device)\n",
    "  dones=torch.from_numpy(np.vstack([e.done for e in experiences if e is not None]).astype(np.uint8)).float().to(device)\n",
    "  return (states,actions,rewards,next_states,dones)\n",
    " \n",
    " def __len__(self):\n",
    "  return len(self.memory)"
   ]
  },
  {
   "cell_type": "markdown",
   "metadata": {},
   "source": [
    "### 5. Training"
   ]
  },
  {
   "cell_type": "code",
   "execution_count": 10,
   "metadata": {},
   "outputs": [
    {
     "name": "stdout",
     "output_type": "stream",
     "text": [
      "Episode 100\tAverage Score: 4.21\n",
      "Episode 200\tAverage Score: 11.33\n",
      "Episode 239\tAverage Score: 13.03\n",
      "Environment solved in 239 episodes!\tAverage Score: 13.03\n"
     ]
    }
   ],
   "source": [
    "agent=Agent(state_size=37,action_size=4,seed=0)\n",
    "\n",
    "\n",
    "\n",
    "def dqn(n_episodes=1000,max_t=1000,eps_start=1,eps_end=0.01,eps_decay=0.97):\n",
    " scores=[]\n",
    " score_window=deque(maxlen=100)\n",
    " eps=eps_start\n",
    "\n",
    " for i_episode in range(1,n_episodes+1):\n",
    "  env_info = env.reset(train_mode=True)[brain_name]\n",
    "  state = env_info.vector_observations[0]\n",
    "  #state=env.reset()\n",
    "  score=0\n",
    "\n",
    "  for t in range(max_t):\n",
    "   action=agent.act(state,eps)\n",
    "   env_info = env.step(action)[brain_name] \n",
    "\n",
    "   next_state = env_info.vector_observations[0]   \n",
    "   reward = env_info.rewards[0]                   \n",
    "   done = env_info.local_done[0]\n",
    "   agent.step(state,action,reward,next_state,done,i_episode)\n",
    "   score += reward                                \n",
    "   state = next_state                             \n",
    "   if done:                                       \n",
    "    break\n",
    "  score_window.append(score)\n",
    "  scores.append(score)\n",
    "  eps=max(eps_end,eps_decay*eps)\n",
    "  print('\\rEpisode {}\\tAverage Score: {:.2f}'.format(i_episode, np.mean(score_window)), end=\"\")\n",
    "  if i_episode % 100 == 0:\n",
    "   print('\\rEpisode {}\\tAverage Score: {:.2f}'.format(i_episode, np.mean(score_window)))\n",
    "  if np.mean(score_window)>=13.0:\n",
    "   print('\\nEnvironment solved in {:d} episodes!\\tAverage Score: {:.2f}'.format(i_episode, np.mean(score_window)))\n",
    "   torch.save(agent.qnetwork_local.state_dict(), 'checkpoint.pth')\n",
    "   break\n",
    " return scores\n",
    "\n",
    "scores = dqn()"
   ]
  },
  {
   "cell_type": "markdown",
   "metadata": {},
   "source": [
    "### 6. Plot reward"
   ]
  },
  {
   "cell_type": "code",
   "execution_count": 11,
   "metadata": {},
   "outputs": [
    {
     "data": {
      "image/png": "[encoded data removed]",
      "text/plain": [
       "<matplotlib.figure.Figure at 0x7fa023bf72e8>"
      ]
     },
     "metadata": {
      "needs_background": "light"
     },
     "output_type": "display_data"
    }
   ],
   "source": [
    "fig = plt.figure()\n",
    "ax = fig.add_subplot(111)\n",
    "plt.plot(np.arange(len(scores)), scores)\n",
    "plt.plot(np.arange(100,len(scores)),pd.Series(scores).rolling(100).mean()[100:])\n",
    "plt.ylabel('Score')\n",
    "plt.xlabel('Episode #')\n",
    "plt.show()"
   ]
  },
  {
   "cell_type": "markdown",
   "metadata": {},
   "source": [
    "### 7. Future work\n",
    "\n",
    "- Double Q Learning\n",
    "- Prioritized Experienced Replay"
   ]
  },
  {
   "cell_type": "code",
   "execution_count": null,
   "metadata": {},
   "outputs": [],
   "source": []
  }
 ],
 "metadata": {
  "kernelspec": {
   "display_name": "Python 3",
   "language": "python",
   "name": "python3"
  },
  "language_info": {
   "codemirror_mode": {
    "name": "ipython",
    "version": 3
   },
   "file_extension": ".py",
   "mimetype": "text/x-python",
   "name": "python",
   "nbconvert_exporter": "python",
   "pygments_lexer": "ipython3",
   "version": "3.6.3"
  }
 },
 "nbformat": 4,
 "nbformat_minor": 2
}
